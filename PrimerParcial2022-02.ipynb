{
 "cells": [
  {
   "cell_type": "markdown",
   "id": "b8468618",
   "metadata": {},
   "source": [
    "## Simulación\n",
    "## Ingeniería en Multimedia Campus\n",
    "## Universidad Militar Nueva Granada\n",
    "\n",
    "#### 29 de Agosto de 2022\n",
    "\n",
    "\n",
    "\n",
    "\n",
    "### Notas generales\n",
    "\n",
    "El ejercicio está en Notebooks\n",
    "\n",
    "Tiene celdas para escritura tipo Markdown y celdas para código tipo Code\n",
    "\n",
    "### Celdas Markdown\n",
    "\n",
    "El código de formato de textos se denomina **markdown**, ver el sitio https://markdown.es/\n",
    "\n",
    "El código para ecuaciones matemáticas es basado en $\\LaTeX$, algunos ejemplos de ecuaciones ver:\n",
    "\n",
    "https://en.wikibooks.org/wiki/LaTeX/Mathematics\n",
    "\n",
    "### Celdas Code\n",
    "\n",
    "Estamos usando Python, el código de las celdas Code, se puede copiar a archivos .py y usarse en editores cómo Spyder\n",
    "\n",
    "Deben estar instaladas las librerias:\n",
    "\n",
    "**numpy** Para cálculos matemáticos. https://numpy.org/\n",
    "\n",
    "**matplotlib** Para graficación. https://matplotlib.org/"
   ]
  },
  {
   "cell_type": "markdown",
   "id": "ff107a95",
   "metadata": {},
   "source": [
    "## Enunciado\n",
    "\n",
    "Programar la solución analítica y por métodos numéricos de la ecuación diferencial dada por el siguiente polinomio:\n",
    "\n",
    "$y=-ax^3+bx^2-bx+d$\n",
    "\n",
    "con condiciones iniciales\n",
    "\n",
    "$x_i=min(z,w)$\n",
    "$y_i=min(z,w)$\n",
    "$x_f=min(z,w)+4$\n",
    "\n",
    "Debe  calcular en el intervalo $[1, 5]$ \n",
    "\n",
    "Dónde a, b, c y d se calculan a partir los últimos 4 dígitos de su documento de identidad así,  sí su cédula es 12345xyzw\n",
    "a=w;\n",
    "b=z\n",
    "c=x+y+w\n",
    "d=w\n",
    "\n",
    "Entregar:\n",
    "\n",
    "Escribir en celdas tipo markdown el informe del parcial con el siguiente contenido:\n",
    "\n",
    "#### a. Solución analítica de la ecuación diferencial\n",
    "\n",
    "#### b. Solución con el método numérico de Euler:\n",
    "\n",
    "$y_{i+1} = y_i + f(x_i,y_i)h$\n",
    "\n",
    "#### c. Solución con el método numérico de Runge Kutta orden 4:\n",
    "\n",
    "$y_{i+1} = y_i + [\\frac{1}{6}k_1+2k_2+2k_3+k_4]h $\n",
    "\n",
    "$k_1=f(x_i,y_i)$\n",
    "\n",
    "$k_2=f(x_i+\\frac{1}{2}h,y_i+\\frac{1}{2}hk_1)$\n",
    "\n",
    "$k_3=f(x_i+\\frac{1}{2}h,y_i+\\frac{1}{2}hk_2)$\n",
    "\n",
    "$k_4=f(x_i+h,y_i+hk_3)$\n",
    "\n",
    "Según su cédula hacer la operación d=w+x, metodo=d%4 (% es la operación módulo o residuo), si método:\n",
    "\n",
    "##### metodo=0, calcular solución con el método de Heun predictor-corrector:\n",
    "\n",
    "Predictor $y_{i+1}^0 = y_i + + f(x_i,y_i)h$\n",
    "\n",
    "Corrector: $y_{i+1}=y_i +\\frac{f(x_i,y_i)+f(x_{i+1},y_{i+1}^0)}{2}h$\n",
    "\n",
    "\n",
    "##### metodo=1, calcular solución con el método de Runge-Kutta orden 2 para la ecuación diferencial\n",
    "\n",
    "$y_{i+1} = y_i + [a_1k_1+a_2k_2]h $\n",
    "\n",
    "$k_1=f(x_i,y_i)$\n",
    "\n",
    "$a_1+a_2=1$\n",
    "\n",
    "$a_2p_1=\\frac{1}{2}$\n",
    "\n",
    "$k_2q_{11}=\\frac{1}{2}$\n",
    "\n",
    "$a_1=1-a_2$\n",
    "\n",
    "$p_1=q_1=\\frac{1}{2a_2}\n",
    "\n",
    "$a_1=\\frac{1}{2} $$a_2=\\frac{1}{2}$, $p_1=q_11=1$\n",
    "\n",
    "##### metodo=2, calcular solución con el método de Runge-Kutta orden 2 para la ecuación diferencial\n",
    "\n",
    "$y_{i+1} = y_i + [a_1k_1+a_2k_2]h $\n",
    "\n",
    "$k_1=f(x_i,y_i)$\n",
    "\n",
    "$a_1+a_2=1$\n",
    "\n",
    "$a_2p_1=\\frac{1}{2}$\n",
    "\n",
    "$k_2q_{11}=\\frac{1}{2}$\n",
    "\n",
    "$a_1=1-a_2$\n",
    "\n",
    "$p_1=q_1=\\frac{1}{2a_2}$\n",
    "\n",
    "$a_1=0 $ $a_2= 1$, $p_1=q_{11}=\\frac{1}{2}$\n",
    "\n",
    "##### metodo=3, calcular solución con el método de Runge-Kutta orden 2 para la ecuación diferencial\n",
    "\n",
    "$y_{i+1} = y_i + [a_1k_1+a_2k_2]h $\n",
    "\n",
    "$k_1=f(x_i,y_i)$\n",
    "\n",
    "$a_1+a_2=1$\n",
    "\n",
    "$a_2p_1=\\frac{1}{2}$\n",
    "\n",
    "$k_2q_{11}=\\frac{1}{2}$\n",
    "\n",
    "$a_1=1-a_2$\n",
    "\n",
    "$p_1=q_1=\\frac{1}{2a_2}$\n",
    "\n",
    "$a_1=\\frac{1}{3}$, $a_2= \\frac{2}{3}$, $p_1=q_{11}\\frac{3}{4}$\n",
    "\n",
    "\n",
    "\n",
    "\n",
    "#### d. Escribir un documento denominado análisis de resultados que contenga resultados para los calculos de todos los métodos con h= 0.5, 0.25 y 0.1;\n",
    "\n",
    "\n",
    "1. Resultados en forma de tabla, incluir columnas para los errores absoluto y relativo para cada método numérico evaluado en cada paso.\n",
    "2. Gráficas de la solución analítica versus cada una de las soluciones por método numérico.\n",
    "3. Gráficas de errores absoluto y relativo.\n",
    "4. Escribir un análisis comparativo de los resultados obtenidos.\n",
    "\n",
    "### NOTA: Código fuente en Python en un Jupiter Notebook, o en Java, o JavaScript con sólo la solución del parcial, debe tener comentarios y estar marcado con el nombre del estudiante.\n",
    "\n"
   ]
  },
  {
   "cell_type": "markdown",
   "id": "3dea7528",
   "metadata": {},
   "source": [
    "### Solución analítica\n",
    "\n",
    "Nombre estudiante: Gustavo Alejandro León Pulido\n",
    "\n",
    "Código: 6000389\n",
    " \n",
    "Cédula: 1072714821\n",
    "    \n",
    "    \n",
    "La ecuación diferencial que voy a solucionar es: $y=-x^3+2x^2-2x+1$\n",
    "\n",
    "    \n",
    "\n",
    "Con condiciones iniciales: \n",
    "$x_i=1$\n",
    "$y_i=1$\n",
    "$x_f=5$\n",
    "$[1, 5]$ \n",
    "        \n",
    "\n",
    "\n",
    "\n",
    "La solución analítica es: $y=-0.25x^4+x^3-2x^2+x+3.25$\n",
    "\n",
    "\n"
   ]
  },
  {
   "cell_type": "code",
   "execution_count": 128,
   "id": "b294a69e",
   "metadata": {},
   "outputs": [],
   "source": [
    "\"\"\"\n",
    "Simulación\n",
    "Ingeniería en Multimedia Campus\n",
    "Universidad Militar Nueva Granada\n",
    "\n",
    "Nombre estudiante:\n",
    "Código: 6000389\n",
    "Cédula: 1072714821\n",
    "\n",
    "Solución analítica\n",
    "\n",
    "\"\"\"\n",
    "%matplotlib inline\n",
    " \n",
    "import matplotlib.pyplot as plt\n",
    "import numpy as np\n",
    "import sympy \n",
    "from scipy import integrate"
   ]
  },
  {
   "cell_type": "code",
   "execution_count": 129,
   "id": "3642cd4d",
   "metadata": {},
   "outputs": [
    {
     "data": {
      "text/latex": [
       "$\\displaystyle \\frac{d}{d x} y{\\left(x \\right)} = - x^{3} + 3 x^{2} - 2 x + 1$"
      ],
      "text/plain": [
       "Eq(Derivative(y(x), x), -x**3 + 3*x**2 - 2*x + 1)"
      ]
     },
     "execution_count": 129,
     "metadata": {},
     "output_type": "execute_result"
    }
   ],
   "source": [
    "# Resolviendo ecuación diferencial\n",
    "# defino las incognitas\n",
    "x = sympy.Symbol('x')\n",
    "y = sympy.Function('y')\n",
    "\n",
    "# expreso la ecuacion\n",
    "f = -x**3 + 3*x**2 -2*x +1\n",
    "sympy.Eq(y(x).diff(x), f)"
   ]
  },
  {
   "cell_type": "code",
   "execution_count": 130,
   "id": "edfa6f9f",
   "metadata": {},
   "outputs": [
    {
     "data": {
      "text/latex": [
       "$\\displaystyle y{\\left(x \\right)} = C_{1} - \\frac{x^{4}}{4} + x^{3} - x^{2} + x$"
      ],
      "text/plain": [
       "Eq(y(x), C1 - x**4/4 + x**3 - x**2 + x)"
      ]
     },
     "execution_count": 130,
     "metadata": {},
     "output_type": "execute_result"
    }
   ],
   "source": [
    "# Resolviendo la ecuación\n",
    "sympy.dsolve(y(x).diff(x) - f)"
   ]
  },
  {
   "cell_type": "markdown",
   "id": "6f5e54b2",
   "metadata": {},
   "source": [
    "Usando la condición inicial, se despeja $C$ y se tiene la solución:\n",
    "\n",
    "$y=-0.25x^4+x^3 -2x^2 +x+3.25$"
   ]
  },
  {
   "cell_type": "code",
   "execution_count": 131,
   "id": "6bc5fb59",
   "metadata": {},
   "outputs": [
    {
     "data": {
      "image/png": "[encoded data removed]",
      "text/plain": [
       "<Figure size 432x288 with 1 Axes>"
      ]
     },
     "metadata": {
      "needs_background": "light"
     },
     "output_type": "display_data"
    }
   ],
   "source": [
    "#Funcion para evaluara la ecuación de la solción exacta\n",
    "def SolucionExacta(x):\n",
    "    return -0.25*x**4+x**3 -2*x**2 + x + 3.25\n",
    "\n",
    "\n",
    "\n",
    "x=np.linspace(1,5,41)#es de 41 elementos para ir cada 0.1 en el intervalo [0,4]\n",
    "#print(x)\n",
    "y=SolucionExacta(x)\n",
    "#print(y)\n",
    "\n",
    "plt.plot(x, y)\n",
    "plt.xlabel('x')\n",
    "plt.ylabel('y')\n",
    "plt.title('Solución exacta de $y=-x^3+2x^2-2x+1$')\n",
    "plt.legend('Exacta')\n",
    "plt.grid()\n",
    "\n",
    "# Generamos el grafico.\n",
    "plt.show()\n",
    "\n"
   ]
  },
  {
   "cell_type": "markdown",
   "id": "76b9c835",
   "metadata": {},
   "source": [
    "### Solución numérica método de Euler\n",
    "\n",
    "Nombre estudiante: Gustavo Alejandro León Pulido\n",
    "\n",
    "Código: 6000389\n",
    "\n",
    "Cédula: 1072714821\n",
    "    \n",
    "    \n",
    "La ecuación diferencial que voy a solucionar es: $y=-x^3+2x^2-2x+1$\n",
    "\n",
    "    \n",
    "\n",
    "Con condiciones iniciales: \n",
    "$x_i=1$\n",
    "$y_i=1$\n",
    "$x_f=5$\n",
    "$[1, 5]$ \n",
    "        \n",
    "\n",
    "\n",
    "\n",
    "La solución analítica es: $y=-0.25x^4+x^3-2x^2+x+3.25$\n",
    "\n",
    "\n"
   ]
  },
  {
   "cell_type": "code",
   "execution_count": 132,
   "id": "5dc4914e",
   "metadata": {},
   "outputs": [],
   "source": [
    "\"\"\"\n",
    "Simulación\n",
    "Ingeniería en Multimedia Campus\n",
    "Universidad Militar Nueva Granada\n",
    "\n",
    "Nombre estudiante:\n",
    "Código: 6000389\n",
    "Cédula: 1072714821\n",
    "\n",
    "Solución método de Euler\n",
    "\n",
    "\"\"\"\n",
    "import matplotlib.pyplot as plt\n",
    "import numpy as np\n",
    "\n",
    "def diferencial(x,y):\n",
    "    return -x**3 +2*x**2 - 2*x + 1\n",
    "\n",
    "def solucionexacta(x):\n",
    "    return -0.25*x**4 + x**3-2*x**2+x+3.25\n",
    "\n",
    "def Euler(xi,xf,yi,h):\n",
    "    n=((xf-xi)/h)+1\n",
    "    x=np.empty(int(n))\n",
    "    y=np.empty(int(n))\n",
    "    x[0]=xi\n",
    "    y[0]=yi\n",
    "    for i in range(int(n)-1):\n",
    "        y[i+1]=y[i]+diferencial(x[i],y[i])*h\n",
    "        x[i+1]=x[i]+h\n",
    "\n",
    "    return x,y \n"
   ]
  },
  {
   "cell_type": "code",
   "execution_count": 133,
   "id": "8c645785",
   "metadata": {},
   "outputs": [
    {
     "data": {
      "image/png": "[encoded data removed]",
      "text/plain": [
       "<Figure size 432x288 with 1 Axes>"
      ]
     },
     "metadata": {
      "needs_background": "light"
     },
     "output_type": "display_data"
    },
    {
     "data": {
      "image/png": "[encoded data removed]",
      "text/plain": [
       "<Figure size 432x288 with 1 Axes>"
      ]
     },
     "metadata": {
      "needs_background": "light"
     },
     "output_type": "display_data"
    },
    {
     "data": {
      "text/plain": [
       "Text(0.5, 1.0, 'Error relativo %')"
      ]
     },
     "execution_count": 133,
     "metadata": {},
     "output_type": "execute_result"
    },
    {
     "data": {
      "image/png": "[encoded data removed]",
      "text/plain": [
       "<Figure size 432x288 with 1 Axes>"
      ]
     },
     "metadata": {
      "needs_background": "light"
     },
     "output_type": "display_data"
    }
   ],
   "source": [
    "pasoGraf=0.01\n",
    "xi=1 #x inicial\n",
    "yi=1 #y inicial\n",
    "xf=5 #x final\n",
    "xexacta=np.arange(xi,xf+pasoGraf,pasoGraf)\n",
    "yexacta=solucionexacta(xexacta)\n",
    "\n",
    "h=0.1 #Paso de evolucion inicial.\n",
    "xexactaErr=np.arange(xi,xf+h,h)\n",
    "yexactaErr=solucionexacta(xexactaErr)\n",
    "\n",
    "plt.plot(xexacta,yexacta,label=\"$Exacta -> y=-0.25x^4+x^3-2x^2+x+3.25$\")\n",
    "plt.xlabel('X')\n",
    "plt.ylabel('Y')\n",
    "plt.title('Solución Ecuacion diferencial ')\n",
    "plt.legend()\n",
    "\n",
    "xEuler,yEuler=Euler(xi,xf,yi,h)\n",
    "plt.plot(xEuler,yEuler,label=\"$y Euler$\")\n",
    "plt.xlabel('X')\n",
    "plt.ylabel('Y')\n",
    "plt.title('Solución Método de Euler, $f(x,y)=-x^3+2x^2-2x+1$')\n",
    "plt.legend()\n",
    "plt.show()\n",
    "\n",
    "#Calculo error y error relativo\n",
    "\n",
    "E= np.abs(yexactaErr-yEuler)\n",
    "plt.plot(xEuler,E,label=\"$Error$\")\n",
    "plt.xlabel('X')\n",
    "plt.ylabel('Y')\n",
    "plt.title('Error')\n",
    "plt.show()\n",
    "\n",
    "ER= np.abs(yexactaErr-yEuler)/(np.abs(yexactaErr))*100\n",
    "\n",
    "plt.plot(xEuler,ER,label=\"$Error %$\")\n",
    "plt.xlabel('X')\n",
    "plt.ylabel('Y')\n",
    "plt.title('Error relativo %')"
   ]
  },
  {
   "cell_type": "markdown",
   "id": "b86c6e14",
   "metadata": {},
   "source": [
    "### Solución numérica método de Runge Kutta orden 4\n",
    "\n",
    "Nombre estudiante: Gustavo Alejandro León Pulido\n",
    "\n",
    "Código: 6000389\n",
    "\n",
    "Cédula: 1072714821\n",
    "    \n",
    "    \n",
    "La ecuación diferencial que voy a solucionar es: $y=-x^3+2x^2-2x+1$\n",
    "\n",
    "    \n",
    "\n",
    "Con condiciones iniciales: \n",
    "$x_i=1$\n",
    "$y_i=1$\n",
    "$x_f=5$\n",
    "$[1, 5]$ \n",
    "        \n",
    "\n",
    "\n",
    "\n",
    "La solución analítica es: $y=-0.25x^4+x^3-2x^2+x+3.25$\n",
    "        \n",
    "\n",
    "\n",
    "\n",
    "El método de Euler es:\n",
    "\n",
    "\n"
   ]
  },
  {
   "cell_type": "code",
   "execution_count": 134,
   "id": "62029319",
   "metadata": {},
   "outputs": [],
   "source": [
    "\"\"\"\n",
    "Simulación\n",
    "Ingeniería en Multimedia Campus\n",
    "Universidad Militar Nueva Granada\n",
    "\n",
    "Nombre estudiante: Gustavo Alejandro León Pulido\n",
    "Código: 6000389\n",
    "Cédula: 1072714821\n",
    "\n",
    "Solución método de Runge Kutta orden 4\n",
    "\n",
    "\"\"\"\n",
    "import matplotlib.pyplot as plt\n",
    "import numpy as np\n",
    "\n",
    "def diferencial(x,y):\n",
    "    return -x**3 +2*x**2 - 2*x + 1\n",
    "\n",
    "def solucionexacta(x):\n",
    "    return -0.25*x**4 + x**3-2*x**2+x+3.25\n",
    "\n",
    "def Kutta(xi,xf,yi,h):\n",
    "    n=((xf-xi)/h)+1\n",
    "    x=np.empty(int(n))\n",
    "    y=np.empty(int(n))\n",
    "    \n",
    "    k1=0\n",
    "    k2=0\n",
    "    k3=0\n",
    "    k4=0\n",
    "    \n",
    "    x[0]=xi\n",
    "    y[0]=yi\n",
    "    for i in range(int(n)-1):\n",
    "        \n",
    "        k1=diferencial(x[i],y[i])\n",
    "        k2=diferencial(x[i]+(1/2)*h,y[i]+(1/2)*k1)\n",
    "        k3=diferencial(x[i]+(1/2)*h,y[i]+(1/2)*k2)\n",
    "        k4=diferencial(x[i]+h,y[i]+h*k3)\n",
    "        \n",
    "        y[i+1]=y[i]+((1/6)*k1+2*k2+2*k3+k4)*h\n",
    "        x[i+1]=x[i]+h\n",
    "\n",
    "    return x,y\n",
    "\n"
   ]
  },
  {
   "cell_type": "code",
   "execution_count": 135,
   "id": "c9738b2e",
   "metadata": {},
   "outputs": [
    {
     "data": {
      "image/png": "[encoded data removed]",
      "text/plain": [
       "<Figure size 432x288 with 1 Axes>"
      ]
     },
     "metadata": {
      "needs_background": "light"
     },
     "output_type": "display_data"
    },
    {
     "data": {
      "image/png": "[encoded data removed]",
      "text/plain": [
       "<Figure size 432x288 with 1 Axes>"
      ]
     },
     "metadata": {
      "needs_background": "light"
     },
     "output_type": "display_data"
    },
    {
     "data": {
      "text/plain": [
       "Text(0.5, 1.0, 'Error relativo %')"
      ]
     },
     "execution_count": 135,
     "metadata": {},
     "output_type": "execute_result"
    },
    {
     "data": {
      "image/png": "[encoded data removed]",
      "text/plain": [
       "<Figure size 432x288 with 1 Axes>"
      ]
     },
     "metadata": {
      "needs_background": "light"
     },
     "output_type": "display_data"
    }
   ],
   "source": [
    "pasoGraf=0.01\n",
    "xi=1 #x inicial\n",
    "yi=1 #y inicial\n",
    "xf=5 #x final\n",
    "xexacta=np.arange(xi,xf+pasoGraf,pasoGraf)\n",
    "yexacta=solucionexacta(xexacta)\n",
    "\n",
    "h=0.1 #Paso de evolucion inicial.\n",
    "xexactaErr=np.arange(xi,xf+h,h)\n",
    "yexactaErr=solucionexacta(xexactaErr)\n",
    "\n",
    "plt.plot(xexacta,yexacta,label=\"$Exacta -> y=-0.25x^4+x^3-2x^2+x+3.25$\")\n",
    "plt.xlabel('X')\n",
    "plt.ylabel('Y')\n",
    "plt.title('Solución Ecuacion diferencial ')\n",
    "plt.legend()\n",
    "\n",
    "xKutta,yKutta=Kutta(xi,xf,yi,h)\n",
    "plt.plot(xKutta,yKutta,label=\"$y Kutta$\")\n",
    "plt.xlabel('X')\n",
    "plt.ylabel('Y')\n",
    "plt.title('Solución Método de Kutta, $f(x,y)=-x^3+2x^2-2x+1$')\n",
    "plt.legend()\n",
    "plt.show()\n",
    "\n",
    "#Calculo error y error relativo\n",
    "\n",
    "E= np.abs(yexactaErr-yKutta)\n",
    "plt.plot(xKutta,E,label=\"$Error$\")\n",
    "plt.xlabel('X')\n",
    "plt.ylabel('Y')\n",
    "plt.title('Error')\n",
    "plt.show()\n",
    "\n",
    "ER= np.abs(yexactaErr-yKutta)/(np.abs(yexactaErr))*100\n",
    "\n",
    "plt.plot(xKutta,ER,label=\"$Error %$\")\n",
    "plt.xlabel('X')\n",
    "plt.ylabel('Y')\n",
    "plt.title('Error relativo %')"
   ]
  },
  {
   "cell_type": "markdown",
   "id": "6e4d58b9",
   "metadata": {},
   "source": [
    "### Solución numérica método de \n",
    "\n",
    "Nombre estudiante:\n",
    "\n",
    "Código:\n",
    "\n",
    "Cédula:\n",
    "    \n",
    "    \n",
    "La ecuación diferencial que voy a solucionar es:\n",
    "    \n",
    "\n",
    "Con condiciones iniciales:\n",
    "        \n",
    "\n",
    "\n",
    "\n",
    "El método de XXXX es:\n",
    "\n",
    "\n"
   ]
  },
  {
   "cell_type": "code",
   "execution_count": 136,
   "id": "62ff6ebc",
   "metadata": {},
   "outputs": [
    {
     "data": {
      "text/plain": [
       "'\\nSimulación\\nIngeniería en Multimedia Campus\\nUniversidad Militar Nueva Granada\\n\\nNombre estudiante:\\n\\nCódigo:\\nCédula:\\n\\nSolución método de \\n\\n'"
      ]
     },
     "execution_count": 136,
     "metadata": {},
     "output_type": "execute_result"
    }
   ],
   "source": [
    "\"\"\"\n",
    "Simulación\n",
    "Ingeniería en Multimedia Campus\n",
    "Universidad Militar Nueva Granada\n",
    "\n",
    "Nombre estudiante:\n",
    "\n",
    "Código:\n",
    "Cédula:\n",
    "\n",
    "Solución método de \n",
    "\n",
    "\"\"\"\n",
    "\n"
   ]
  }
 ],
 "metadata": {
  "kernelspec": {
   "display_name": "Python 3 (ipykernel)",
   "language": "python",
   "name": "python3"
  },
  "language_info": {
   "codemirror_mode": {
    "name": "ipython",
    "version": 3
   },
   "file_extension": ".py",
   "mimetype": "text/x-python",
   "name": "python",
   "nbconvert_exporter": "python",
   "pygments_lexer": "ipython3",
   "version": "3.9.12"
  }
 },
 "nbformat": 4,
 "nbformat_minor": 5
}
